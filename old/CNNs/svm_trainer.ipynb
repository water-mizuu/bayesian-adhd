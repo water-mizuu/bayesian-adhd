{
 "cells": [
  {
   "cell_type": "code",
   "execution_count": 1,
   "id": "181da2fc-dae6-4638-8d23-8214b7560c26",
   "metadata": {},
   "outputs": [],
   "source": [
    "import numpy as np\n",
    "import pandas as pd\n",
    "from sklearn.model_selection import train_test_split\n",
    "from sklearn.preprocessing import StandardScaler, LabelEncoder\n",
    "from sklearn.metrics import accuracy_score, classification_report, confusion_matrix\n",
    "\n",
    "import torch\n",
    "import torch.nn as nn\n",
    "import torch.nn.functional as F\n",
    "from torch.utils.data import Dataset, DataLoader\n",
    "from torch.optim import Adam, RMSprop, SGD"
   ]
  },
  {
   "cell_type": "code",
   "execution_count": 2,
   "id": "af714077-585f-4de6-b357-1e50dc4993ee",
   "metadata": {},
   "outputs": [
    {
     "name": "stdout",
     "output_type": "stream",
     "text": [
      "Train shape: (6623, 77, 19, 1)\n"
     ]
    }
   ],
   "source": [
    "df = pd.read_csv(\"../processed_adhdata.csv\")\n",
    "df['Class'] = LabelEncoder().fit_transform(df['Class'])  # ADHD->1, Control->0\n",
    "\n",
    "frequency_count = len(df['Frequency'].unique())\n",
    "window_count = len(df['Window'].unique())\n",
    "numeric_df = df.drop(['ID', 'Window'], axis=1)\n",
    "\n",
    "# shape: (windows, freqs, features)\n",
    "full_ndarray = numeric_df.values.reshape(\n",
    "    (window_count, frequency_count, numeric_df.shape[1])\n",
    ")\n",
    "\n",
    "X = full_ndarray[:, :, 2:]     # drop ID/Class columns\n",
    "y = full_ndarray[:, 0, 0]      # class label is repeated across freq rows\n",
    "\n",
    "X_train, X_test, y_train, y_test = train_test_split(X, y, test_size=0.2, stratify=y)\n",
    "\n",
    "# Add channel dimension (N, 1, freq, electrodes)\n",
    "X_train = X_train[..., np.newaxis]   # (N, freq, electrodes, 1)\n",
    "X_test  = X_test[...,  np.newaxis]\n",
    "\n",
    "# Standardize across the entire dataset\n",
    "scaler = StandardScaler()\n",
    "X_train_flat = X_train.reshape(-1, X_train.shape[-1])\n",
    "X_test_flat  = X_test.reshape(-1, X_test.shape[-1])\n",
    "\n",
    "X_train_scaled = scaler.fit_transform(X_train_flat)\n",
    "X_test_scaled  = scaler.transform(X_test_flat)\n",
    "\n",
    "X_train = X_train_scaled.reshape(X_train.shape)\n",
    "X_test  = X_test_scaled.reshape(X_test.shape)\n",
    "\n",
    "print(\"Train shape:\", X_train.shape)  # (N, freq, electrodes, 1)"
   ]
  },
  {
   "cell_type": "code",
   "execution_count": 3,
   "id": "e2595397-63c0-4fd7-9f9a-4242370f5bcf",
   "metadata": {},
   "outputs": [],
   "source": [
    "class EEGDataset(Dataset):\n",
    "    def __init__(self, X, y):\n",
    "        self.X = torch.tensor(X, dtype=torch.float32).permute(0, 3, 1, 2)  \n",
    "        # -> (N, 1, freq, electrodes)\n",
    "        self.y = torch.tensor(y, dtype=torch.long)\n",
    "\n",
    "    def __len__(self):\n",
    "        return len(self.X)\n",
    "\n",
    "    def __getitem__(self, idx):\n",
    "        return self.X[idx], self.y[idx]\n",
    "\n",
    "train_ds = EEGDataset(X_train, y_train)\n",
    "test_ds  = EEGDataset(X_test,  y_test)\n",
    "\n",
    "train_loader = DataLoader(train_ds, batch_size=32, shuffle=True)\n",
    "test_loader  = DataLoader(test_ds, batch_size=32, shuffle=False)"
   ]
  },
  {
   "cell_type": "code",
   "execution_count": 4,
   "id": "3e658ff5-0dd2-4898-9f4a-d71d0cc79bbf",
   "metadata": {},
   "outputs": [],
   "source": [
    "from sklearn.svm import SVC\n",
    "from sklearn.metrics import accuracy_score, classification_report, confusion_matrix\n",
    "\n",
    "class EEG_SVM:\n",
    "    def __init__(self, kernel='rbf', C=1.0, gamma='scale', random_state=42):\n",
    "        self.model = SVC(kernel=kernel, C=C, gamma=gamma, probability=True, random_state=random_state)\n",
    "\n",
    "    def fit(self, train_loader, test_loader=None):\n",
    "        # --- Flatten training data ---\n",
    "        X_train, y_train = [], []\n",
    "        for xb, yb in train_loader:\n",
    "            X_train.append(xb.numpy().reshape(xb.size(0), -1))\n",
    "            y_train.append(yb.numpy())\n",
    "        X_train = np.concatenate(X_train, axis=0)\n",
    "        y_train = np.concatenate(y_train, axis=0)\n",
    "\n",
    "        # Train SVM\n",
    "        print(\"Fitting SVM Model\")\n",
    "        self.model.fit(X_train, y_train)\n",
    "\n",
    "        history = {}\n",
    "        if test_loader is not None:\n",
    "            # --- Flatten validation data ---\n",
    "            X_val, y_val = [], []\n",
    "            for xb, yb in test_loader:\n",
    "                X_val.append(xb.numpy().reshape(xb.size(0), -1))\n",
    "                y_val.append(yb.numpy())\n",
    "            X_val = np.concatenate(X_val, axis=0)\n",
    "            y_val = np.concatenate(y_val, axis=0)\n",
    "\n",
    "            y_train_pred = self.model.predict(X_train)\n",
    "            y_val_pred   = self.model.predict(X_val)\n",
    "\n",
    "            history['train_acc'] = accuracy_score(y_train, y_train_pred)\n",
    "            history['val_acc']   = accuracy_score(y_val, y_val_pred)\n",
    "\n",
    "            print(\"Train Accuracy:\", history['train_acc'])\n",
    "            print(\"Validation Accuracy:\", history['val_acc'])\n",
    "            print(\"\\nValidation Classification Report:\\n\", classification_report(y_val, y_val_pred))\n",
    "            print(\"Confusion Matrix:\\n\", confusion_matrix(y_val, y_val_pred))\n",
    "\n",
    "        return history\n",
    "\n",
    "    def predict(self, X):\n",
    "        if isinstance(X, torch.Tensor):\n",
    "            X = X.numpy().reshape(X.shape[0], -1)\n",
    "        return self.model.predict(X)\n"
   ]
  },
  {
   "cell_type": "code",
   "execution_count": 5,
   "id": "01683741-6af7-471c-8440-c72a1b8fd652",
   "metadata": {
    "scrolled": true
   },
   "outputs": [
    {
     "name": "stdout",
     "output_type": "stream",
     "text": [
      "Fitting SVM Model\n",
      "Train Accuracy: 0.7039106145251397\n",
      "Validation Accuracy: 0.6781400966183575\n",
      "\n",
      "Validation Classification Report:\n",
      "               precision    recall  f1-score   support\n",
      "\n",
      "           0       0.64      0.94      0.77       925\n",
      "           1       0.83      0.34      0.48       731\n",
      "\n",
      "    accuracy                           0.68      1656\n",
      "   macro avg       0.74      0.64      0.62      1656\n",
      "weighted avg       0.73      0.68      0.64      1656\n",
      "\n",
      "Confusion Matrix:\n",
      " [[874  51]\n",
      " [482 249]]\n"
     ]
    }
   ],
   "source": [
    "input_size = X_train.shape[2]  # number of electrodes\n",
    "svm_model = EEG_SVM(kernel='rbf', C=1.0, gamma='scale')\n",
    "\n",
    "history = svm_model.fit(train_loader, test_loader)"
   ]
  },
  {
   "cell_type": "code",
   "execution_count": 6,
   "id": "e20ab9a3-cf9a-4fbf-b321-8d29d0797a49",
   "metadata": {},
   "outputs": [
    {
     "name": "stdout",
     "output_type": "stream",
     "text": [
      "\n",
      "Test Accuracy: 0.6781400966183575\n",
      "              precision    recall  f1-score   support\n",
      "\n",
      "           0       0.64      0.94      0.77       925\n",
      "           1       0.83      0.34      0.48       731\n",
      "\n",
      "    accuracy                           0.68      1656\n",
      "   macro avg       0.74      0.64      0.62      1656\n",
      "weighted avg       0.73      0.68      0.64      1656\n",
      "\n",
      "[[874  51]\n",
      " [482 249]]\n"
     ]
    }
   ],
   "source": [
    "all_preds, all_labels = [], []\n",
    "\n",
    "for xb, yb in test_loader:\n",
    "    # xb: (batch, freq, electrodes, 1) or (batch, freq, electrodes)\n",
    "    preds = svm_model.predict(xb)  # handles torch tensors and flattens automatically\n",
    "    all_preds.append(preds)\n",
    "    all_labels.append(yb.numpy())\n",
    "\n",
    "all_preds = np.concatenate(all_preds)\n",
    "all_labels = np.concatenate(all_labels)\n",
    "\n",
    "print(\"\\nTest Accuracy:\", accuracy_score(all_labels, all_preds))\n",
    "print(classification_report(all_labels, all_preds))\n",
    "print(confusion_matrix(all_labels, all_preds))"
   ]
  },
  {
   "cell_type": "code",
   "execution_count": 7,
   "id": "f5ba6aae-6a97-4f20-9edd-a31e8d0a355d",
   "metadata": {},
   "outputs": [
    {
     "ename": "KeyError",
     "evalue": "'train_accs'",
     "output_type": "error",
     "traceback": [
      "\u001b[31m---------------------------------------------------------------------------\u001b[39m",
      "\u001b[31mKeyError\u001b[39m                                  Traceback (most recent call last)",
      "\u001b[36mCell\u001b[39m\u001b[36m \u001b[39m\u001b[32mIn[7]\u001b[39m\u001b[32m, line 6\u001b[39m\n\u001b[32m      3\u001b[39m plt.figure(figsize=(\u001b[32m12\u001b[39m, \u001b[32m4\u001b[39m))\n\u001b[32m      5\u001b[39m plt.subplot(\u001b[32m1\u001b[39m, \u001b[32m2\u001b[39m, \u001b[32m1\u001b[39m)\n\u001b[32m----> \u001b[39m\u001b[32m6\u001b[39m plt.plot(\u001b[43mhistory\u001b[49m\u001b[43m[\u001b[49m\u001b[33;43m'\u001b[39;49m\u001b[33;43mtrain_accs\u001b[39;49m\u001b[33;43m'\u001b[39;49m\u001b[43m]\u001b[49m, label=\u001b[33m'\u001b[39m\u001b[33mTraining Accuracy\u001b[39m\u001b[33m'\u001b[39m)\n\u001b[32m      7\u001b[39m plt.plot(history[\u001b[33m'\u001b[39m\u001b[33mval_accs\u001b[39m\u001b[33m'\u001b[39m], label=\u001b[33m'\u001b[39m\u001b[33mValidation Accuracy\u001b[39m\u001b[33m'\u001b[39m)\n\u001b[32m      8\u001b[39m plt.title(\u001b[33m'\u001b[39m\u001b[33mModel Accuracy\u001b[39m\u001b[33m'\u001b[39m)\n",
      "\u001b[31mKeyError\u001b[39m: 'train_accs'"
     ]
    },
    {
     "data": {
      "image/png": "[encoded data removed]",
      "text/plain": [
       "<Figure size 1200x400 with 1 Axes>"
      ]
     },
     "metadata": {},
     "output_type": "display_data"
    }
   ],
   "source": [
    "import matplotlib.pyplot as plt\n",
    "\n",
    "plt.figure(figsize=(12, 4))\n",
    "\n",
    "plt.subplot(1, 2, 1)\n",
    "plt.plot(history['train_accs'], label='Training Accuracy')\n",
    "plt.plot(history['val_accs'], label='Validation Accuracy')\n",
    "plt.title('Model Accuracy')\n",
    "plt.xlabel('Epoch')\n",
    "plt.ylabel('Accuracy')\n",
    "plt.legend()\n",
    "\n",
    "plt.subplot(1, 2, 2)\n",
    "plt.plot(history['train_losses'], label='Training Loss')\n",
    "plt.plot(history['val_losses'], label='Validation Loss')\n",
    "plt.title('Model Loss')\n",
    "plt.xlabel('Epoch')\n",
    "plt.ylabel('Loss')\n",
    "plt.legend()\n",
    "\n",
    "plt.tight_layout()\n",
    "plt.show()"
   ]
  },
  {
   "cell_type": "code",
   "execution_count": null,
   "id": "f7e42d84-93ce-47ca-9483-6e22f9d76d2c",
   "metadata": {},
   "outputs": [],
   "source": []
  }
 ],
 "metadata": {
  "kernelspec": {
   "display_name": "Python 3 (ipykernel)",
   "language": "python",
   "name": "python3"
  },
  "language_info": {
   "codemirror_mode": {
    "name": "ipython",
    "version": 3
   },
   "file_extension": ".py",
   "mimetype": "text/x-python",
   "name": "python",
   "nbconvert_exporter": "python",
   "pygments_lexer": "ipython3",
   "version": "3.11.13"
  }
 },
 "nbformat": 4,
 "nbformat_minor": 5
}
